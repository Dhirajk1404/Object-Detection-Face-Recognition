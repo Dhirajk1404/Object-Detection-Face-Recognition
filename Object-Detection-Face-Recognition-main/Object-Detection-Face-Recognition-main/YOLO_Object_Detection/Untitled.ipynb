{
 "cells": [
  {
   "cell_type": "code",
   "execution_count": 1,
   "id": "443cefde",
   "metadata": {},
   "outputs": [],
   "source": [
    "import cv2\n",
    "import numpy as np\n",
    "import matplotlib.pyplot as plt"
   ]
  },
  {
   "cell_type": "code",
   "execution_count": 5,
   "id": "9b9ea510",
   "metadata": {},
   "outputs": [],
   "source": [
    "yolo = cv2.dnn.readNet(\"yolov3.weights\",\"yolov3.cfg\")"
   ]
  },
  {
   "cell_type": "code",
   "execution_count": 6,
   "id": "ab5de58b",
   "metadata": {},
   "outputs": [],
   "source": [
    "classess=[]\n"
   ]
  },
  {
   "cell_type": "code",
   "execution_count": 7,
   "id": "aaea13f6",
   "metadata": {},
   "outputs": [],
   "source": [
    "classess=[]\n",
    "\n",
    "with open(\"coco.names\",\"r\") as f:\n",
    "    classess=f.read().splitlines()"
   ]
  },
  {
   "cell_type": "code",
   "execution_count": 8,
   "id": "69b32916",
   "metadata": {},
   "outputs": [
    {
     "data": {
      "text/plain": [
       "80"
      ]
     },
     "execution_count": 8,
     "metadata": {},
     "output_type": "execute_result"
    }
   ],
   "source": [
    "len(classess)"
   ]
  },
  {
   "cell_type": "code",
   "execution_count": 9,
   "id": "2aab18dd",
   "metadata": {},
   "outputs": [
    {
     "data": {
      "text/plain": [
       "['person',\n",
       " 'bicycle',\n",
       " 'car',\n",
       " 'motorbike',\n",
       " 'aeroplane',\n",
       " 'bus',\n",
       " 'train',\n",
       " 'truck',\n",
       " 'boat',\n",
       " 'traffic light',\n",
       " 'fire hydrant',\n",
       " 'stop sign',\n",
       " 'parking meter',\n",
       " 'bench',\n",
       " 'bird',\n",
       " 'cat',\n",
       " 'dog',\n",
       " 'horse',\n",
       " 'sheep',\n",
       " 'cow',\n",
       " 'elephant',\n",
       " 'bear',\n",
       " 'zebra',\n",
       " 'giraffe',\n",
       " 'backpack',\n",
       " 'umbrella',\n",
       " 'handbag',\n",
       " 'tie',\n",
       " 'suitcase',\n",
       " 'frisbee',\n",
       " 'skis',\n",
       " 'snowboard',\n",
       " 'sports ball',\n",
       " 'kite',\n",
       " 'baseball bat',\n",
       " 'baseball glove',\n",
       " 'skateboard',\n",
       " 'surfboard',\n",
       " 'tennis racket',\n",
       " 'bottle',\n",
       " 'wine glass',\n",
       " 'cup',\n",
       " 'fork',\n",
       " 'knife',\n",
       " 'spoon',\n",
       " 'bowl',\n",
       " 'banana',\n",
       " 'apple',\n",
       " 'sandwich',\n",
       " 'orange',\n",
       " 'broccoli',\n",
       " 'carrot',\n",
       " 'hot dog',\n",
       " 'pizza',\n",
       " 'donut',\n",
       " 'cake',\n",
       " 'chair',\n",
       " 'sofa',\n",
       " 'pottedplant',\n",
       " 'bed',\n",
       " 'diningtable',\n",
       " 'toilet',\n",
       " 'tvmonitor',\n",
       " 'laptop',\n",
       " 'mouse',\n",
       " 'remote',\n",
       " 'keyboard',\n",
       " 'cell phone',\n",
       " 'microwave',\n",
       " 'oven',\n",
       " 'toaster',\n",
       " 'sink',\n",
       " 'refrigerator',\n",
       " 'book',\n",
       " 'clock',\n",
       " 'vase',\n",
       " 'scissors',\n",
       " 'teddy bear',\n",
       " 'hair drier',\n",
       " 'toothbrush']"
      ]
     },
     "execution_count": 9,
     "metadata": {},
     "output_type": "execute_result"
    }
   ],
   "source": [
    "classess"
   ]
  },
  {
   "cell_type": "code",
   "execution_count": 10,
   "id": "e2362d23",
   "metadata": {},
   "outputs": [
    {
     "data": {
      "text/plain": [
       "array([[[ 50,  58,  57],\n",
       "        [ 51,  59,  58],\n",
       "        [ 53,  61,  60],\n",
       "        ...,\n",
       "        [ 47,  89, 142],\n",
       "        [ 41,  50,  88],\n",
       "        [ 47,  71,  63]],\n",
       "\n",
       "       [[ 51,  59,  58],\n",
       "        [ 51,  59,  58],\n",
       "        [ 52,  60,  59],\n",
       "        ...,\n",
       "        [ 37,  74, 124],\n",
       "        [ 41,  50,  84],\n",
       "        [ 46,  70,  58]],\n",
       "\n",
       "       [[ 51,  59,  58],\n",
       "        [ 51,  59,  58],\n",
       "        [ 52,  60,  59],\n",
       "        ...,\n",
       "        [ 25,  54,  98],\n",
       "        [ 48,  54,  77],\n",
       "        [ 43,  62,  45]],\n",
       "\n",
       "       ...,\n",
       "\n",
       "       [[179, 168, 160],\n",
       "        [179, 168, 160],\n",
       "        [182, 171, 163],\n",
       "        ...,\n",
       "        [ 64,  64,  80],\n",
       "        [ 36,  39,  53],\n",
       "        [ 48,  53,  62]],\n",
       "\n",
       "       [[180, 169, 161],\n",
       "        [179, 168, 160],\n",
       "        [175, 164, 156],\n",
       "        ...,\n",
       "        [ 61,  61,  79],\n",
       "        [ 37,  40,  54],\n",
       "        [ 52,  56,  67]],\n",
       "\n",
       "       [[176, 165, 157],\n",
       "        [178, 167, 159],\n",
       "        [172, 161, 153],\n",
       "        ...,\n",
       "        [ 62,  62,  80],\n",
       "        [ 33,  36,  50],\n",
       "        [ 35,  39,  50]]], dtype=uint8)"
      ]
     },
     "execution_count": 10,
     "metadata": {},
     "output_type": "execute_result"
    }
   ],
   "source": [
    "img =  cv2.imread(\"dog.jpg\")\n",
    "img"
   ]
  },
  {
   "cell_type": "code",
   "execution_count": 27,
   "id": "55bcecb8",
   "metadata": {},
   "outputs": [],
   "source": [
    "blob =cv2.dnn.blobFromImage(img,1/255, (320,320),(0,0,0),swapRB=True ,crop=False)"
   ]
  },
  {
   "cell_type": "code",
   "execution_count": 28,
   "id": "6c187e0b",
   "metadata": {},
   "outputs": [
    {
     "data": {
      "text/plain": [
       "(1, 3, 320, 320)"
      ]
     },
     "execution_count": 28,
     "metadata": {},
     "output_type": "execute_result"
    }
   ],
   "source": [
    "blob.shape\n"
   ]
  },
  {
   "cell_type": "code",
   "execution_count": null,
   "id": "8dce5244",
   "metadata": {},
   "outputs": [],
   "source": []
  },
  {
   "cell_type": "code",
   "execution_count": null,
   "id": "55823031",
   "metadata": {},
   "outputs": [],
   "source": []
  },
  {
   "cell_type": "code",
   "execution_count": 32,
   "id": "30644e0b",
   "metadata": {},
   "outputs": [
    {
     "ename": "error",
     "evalue": "OpenCV(4.5.4-dev) :-1: error: (-5:Bad argument) in function 'imshow'\n> Overload resolution failed:\n>  - imshow() missing required argument 'mat' (pos 2)\n>  - imshow() missing required argument 'mat' (pos 2)\n>  - imshow() missing required argument 'mat' (pos 2)\n",
     "output_type": "error",
     "traceback": [
      "\u001b[1;31m---------------------------------------------------------------------------\u001b[0m",
      "\u001b[1;31merror\u001b[0m                                     Traceback (most recent call last)",
      "\u001b[1;32m<ipython-input-32-c2fa99c1c1aa>\u001b[0m in \u001b[0;36m<module>\u001b[1;34m\u001b[0m\n\u001b[0;32m      1\u001b[0m \u001b[0mi\u001b[0m\u001b[1;33m=\u001b[0m\u001b[0mblob\u001b[0m\u001b[1;33m[\u001b[0m\u001b[1;36m0\u001b[0m\u001b[1;33m]\u001b[0m\u001b[1;33m.\u001b[0m\u001b[0mshape\u001b[0m\u001b[1;33m\u001b[0m\u001b[1;33m\u001b[0m\u001b[0m\n\u001b[1;32m----> 2\u001b[1;33m \u001b[0ma\u001b[0m\u001b[1;33m=\u001b[0m\u001b[0mcv2\u001b[0m\u001b[1;33m.\u001b[0m\u001b[0mimshow\u001b[0m\u001b[1;33m(\u001b[0m\u001b[0mi\u001b[0m\u001b[1;33m)\u001b[0m\u001b[1;33m\u001b[0m\u001b[1;33m\u001b[0m\u001b[0m\n\u001b[0m\u001b[0;32m      3\u001b[0m \u001b[0ma\u001b[0m\u001b[1;33m\u001b[0m\u001b[1;33m\u001b[0m\u001b[0m\n",
      "\u001b[1;31merror\u001b[0m: OpenCV(4.5.4-dev) :-1: error: (-5:Bad argument) in function 'imshow'\n> Overload resolution failed:\n>  - imshow() missing required argument 'mat' (pos 2)\n>  - imshow() missing required argument 'mat' (pos 2)\n>  - imshow() missing required argument 'mat' (pos 2)\n"
     ]
    }
   ],
   "source": [
    "i=blob[0].shape\n",
    "a=cv2.imshow(i)\n",
    "a"
   ]
  },
  {
   "cell_type": "code",
   "execution_count": 19,
   "id": "e7103c60",
   "metadata": {},
   "outputs": [],
   "source": [
    "yolo.setInput(blob)"
   ]
  },
  {
   "cell_type": "code",
   "execution_count": 21,
   "id": "c9ee8c23",
   "metadata": {},
   "outputs": [],
   "source": [
    "output_layer_name = yolo.getUnconnectedOutLayersNames()\n",
    "layeroutput = yolo.forward(output_layer_name)"
   ]
  },
  {
   "cell_type": "code",
   "execution_count": 22,
   "id": "cdb2369f",
   "metadata": {},
   "outputs": [
    {
     "name": "stderr",
     "output_type": "stream",
     "text": [
      "C:\\Users\\Admin\\Anaconda3\\envs\\py\\lib\\site-packages\\ipykernel_launcher.py:10: DeprecationWarning: The truth value of an empty array is ambiguous. Returning False, but in future this will result in an error. Use `array.size > 0` to check that an array is not empty.\n",
      "  # Remove the CWD from sys.path while we load stuff.\n"
     ]
    }
   ],
   "source": [
    "boxes =[]\n",
    "confidences =[]\n",
    "class_ids=[]\n",
    "\n",
    "for output in layeroutput:\n",
    "    for detection in output:\n",
    "        score=detection[5:]\n",
    "        class_id=np.argmax(score)\n",
    "        confidence = score[class_ids]\n",
    "        if confidence > 0.7 :\n",
    "            center_x = int(detection[0]*width)\n",
    "            center_y = int(detection[0]*height)\n",
    "            w = int(detection[0]*width)\n",
    "            h = int(detection[0]*height)\n",
    "            \n",
    "            x= int(center_x - w/2)\n",
    "            y= int(center_y - h/2)\n",
    "            \n",
    "            boxes.append([x,y,w,h])\n",
    "            confidences.append(float(condidence))\n",
    "            class_ids.append(class_id)"
   ]
  },
  {
   "cell_type": "code",
   "execution_count": 23,
   "id": "7b0fc790",
   "metadata": {},
   "outputs": [
    {
     "data": {
      "text/plain": [
       "0"
      ]
     },
     "execution_count": 23,
     "metadata": {},
     "output_type": "execute_result"
    }
   ],
   "source": [
    "len(boxes)"
   ]
  },
  {
   "cell_type": "code",
   "execution_count": null,
   "id": "e13c8bba",
   "metadata": {},
   "outputs": [],
   "source": []
  }
 ],
 "metadata": {
  "kernelspec": {
   "display_name": "Python 3",
   "language": "python",
   "name": "python3"
  },
  "language_info": {
   "codemirror_mode": {
    "name": "ipython",
    "version": 3
   },
   "file_extension": ".py",
   "mimetype": "text/x-python",
   "name": "python",
   "nbconvert_exporter": "python",
   "pygments_lexer": "ipython3",
   "version": "3.7.10"
  }
 },
 "nbformat": 4,
 "nbformat_minor": 5
}
